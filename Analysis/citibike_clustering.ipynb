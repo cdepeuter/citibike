{
 "cells": [
  {
   "cell_type": "code",
   "execution_count": 1,
   "metadata": {
    "collapsed": true
   },
   "outputs": [],
   "source": [
    "from pyspark import SparkConf, SparkContext\n",
    "from pyspark.sql import SQLContext\n",
    "from pyspark.sql.functions import *\n",
    "import pandas as pd\n",
    "import numpy as np\n",
    "import matplotlib.pyplot as plt\n",
    "import time"
   ]
  },
  {
   "cell_type": "code",
   "execution_count": 2,
   "metadata": {
    "collapsed": true
   },
   "outputs": [],
   "source": [
    "conf = (SparkConf()\n",
    "         .setMaster(\"local\")\n",
    "         .setAppName(\"CitibikeCluster\")\n",
    "         .set(\"spark.executor.memory\", \"1g\"))"
   ]
  },
  {
   "cell_type": "code",
   "execution_count": 3,
   "metadata": {
    "collapsed": true
   },
   "outputs": [],
   "source": [
    "sc = SparkContext(conf = conf)"
   ]
  },
  {
   "cell_type": "code",
   "execution_count": 4,
   "metadata": {
    "collapsed": true
   },
   "outputs": [],
   "source": [
    "sql = SQLContext(sc)"
   ]
  },
  {
   "cell_type": "code",
   "execution_count": 95,
   "metadata": {},
   "outputs": [
    {
     "data": {
      "text/plain": [
       "DataFrame[tripduration: int, starttime: string, stoptime: string, start_station_name: string, end_station_name: string, bikeid: int, usertype: string, gender: string, start_station_id: int, start_station_latitude: double, start_station_longitude: double, end_station_id: int, end_station_latitude: double, end_station_longitude: double]"
      ]
     },
     "execution_count": 95,
     "metadata": {},
     "output_type": "execute_result"
    }
   ],
   "source": [
    "#Input files into dataframe\n",
    "inputFile = \"s3://citibikeraw/train/*.csv\"\n",
    "trips = (sql.read\n",
    "         .format(\"com.databricks.spark.csv\")\n",
    "         .options(header = 'true', inferschema='false')\n",
    "         .load(inputFile))\n",
    "\n",
    "#change all the column types\n",
    "trips = trips.withColumn(\"tripduration\", trips[\"tripduration\"].cast(\"int\"))\n",
    "trips = trips.withColumn(\"start_station_id\", trips[\"start station id\"].cast(\"int\"))\n",
    "trips = trips.withColumn(\"start_station_latitude\", round(trips[\"start station latitude\"].cast(\"double\"), 5))\n",
    "trips = trips.withColumn(\"start_station_longitude\", round(trips[\"start station longitude\"].cast(\"double\"), 5))\n",
    "trips = trips.withColumn(\"end_station_id\", trips[\"end station id\"].cast(\"int\"))\n",
    "trips = trips.withColumn(\"end_station_latitude\", round(trips[\"end station latitude\"].cast(\"double\"), 5))\n",
    "trips = trips.withColumn(\"end_station_longitude\", round(trips[\"end station longitude\"].cast(\"double\"), 5))\n",
    "trips = trips.withColumn(\"bikeid\", trips[\"bikeid\"].cast(\"int\"))\n",
    "trips = trips.withColumnRenamed(\"start station name\", \"start_station_name\")\n",
    "trips = trips.withColumnRenamed(\"end station name\", \"end_station_name\")\n",
    "trips = trips.select('tripduration', 'starttime','stoptime','start_station_name',\\\n",
    " 'end_station_name','bikeid','usertype','gender', 'start_station_id','start_station_latitude',\\\n",
    " 'start_station_longitude','end_station_id','end_station_latitude','end_station_longitude')"
   ]
  },
  {
   "cell_type": "markdown",
   "metadata": {},
   "source": [
    "## Make dates with consistent formatting"
   ]
  },
  {
   "cell_type": "code",
   "execution_count": 96,
   "metadata": {
    "collapsed": true
   },
   "outputs": [],
   "source": [
    "def format_date(date_str):\n",
    "    #Puts strings in a consistent format to cast as timestamps\n",
    "    if '/' in date_str:\n",
    "        date_parts = date_str.split(' ')\n",
    "        m,d,y = date_parts[0].split('/')\n",
    "        return \"{}-{}-{} {}\".format(\n",
    "            y, m.zfill(2), d.zfill(2), date_parts[1]\n",
    "        )\n",
    "    else:\n",
    "        return date_str\n",
    "udfFormatDate = udf(format_date)"
   ]
  },
  {
   "cell_type": "code",
   "execution_count": 97,
   "metadata": {
    "collapsed": true
   },
   "outputs": [],
   "source": [
    "trips = trips.withColumn(\"starttime\", udfFormatDate(trips.starttime))\n",
    "trips = trips.withColumn(\"stoptime\", udfFormatDate(trips.stoptime))"
   ]
  },
  {
   "cell_type": "code",
   "execution_count": 98,
   "metadata": {
    "collapsed": true
   },
   "outputs": [],
   "source": [
    "trips = trips.withColumn(\"starttime\", trips[\"starttime\"].cast(\"timestamp\"))\n",
    "trips = trips.withColumn(\"stoptime\", trips[\"stoptime\"].cast(\"timestamp\"))"
   ]
  },
  {
   "cell_type": "code",
   "execution_count": 99,
   "metadata": {},
   "outputs": [
    {
     "data": {
      "text/plain": [
       "DataFrame[tripduration: int, starttime: timestamp, stoptime: timestamp, start_station_name: string, end_station_name: string, bikeid: int, usertype: string, gender: string, start_station_id: int, start_station_latitude: double, start_station_longitude: double, end_station_id: int, end_station_latitude: double, end_station_longitude: double]"
      ]
     },
     "execution_count": 99,
     "metadata": {},
     "output_type": "execute_result"
    }
   ],
   "source": [
    "trips.cache()"
   ]
  },
  {
   "cell_type": "markdown",
   "metadata": {},
   "source": [
    "### Coordinate Consistency"
   ]
  },
  {
   "cell_type": "code",
   "execution_count": 103,
   "metadata": {
    "collapsed": true
   },
   "outputs": [],
   "source": [
    "#Verify consistency of coordinates\n",
    "t0 = time.time()\n",
    "funs = [count, min, max]\n",
    "cols = ['starttime']\n",
    "aggs = [f(col(c)) for f in funs for c in cols]\n",
    "lat_lon_start = trips.groupby(['start_station_id', \\\n",
    "                               'start_station_latitude', \\\n",
    "                               'start_station_longitude']).agg(*aggs)\n",
    "\n",
    "x = lat_lon_start.toPandas()\n",
    "t1 = time.time()\n",
    "\n",
    "x.columns = ['ID', 'latitude', 'longitude', 'count', 'start', 'end']"
   ]
  },
  {
   "cell_type": "code",
   "execution_count": 150,
   "metadata": {
    "collapsed": true
   },
   "outputs": [],
   "source": [
    "y = x.groupby('ID').agg({'start': np.min, 'end':np.max, 'latitude': 'count'}).reset_index()\n",
    "y = y[y['latitude'] != 1]"
   ]
  },
  {
   "cell_type": "code",
   "execution_count": 269,
   "metadata": {
    "collapsed": true
   },
   "outputs": [],
   "source": [
    "misfits = x.merge(y, on = 'ID')[['ID', 'latitude_x', 'longitude', 'count', 'start_x', 'end_x']]"
   ]
  },
  {
   "cell_type": "code",
   "execution_count": 270,
   "metadata": {
    "collapsed": true
   },
   "outputs": [],
   "source": [
    "misfits = misfits.merge(misfits.groupby('ID').agg({'latitude_x': np.mean,\n",
    "                                        'longitude' : np.mean}).reset_index(), on = 'ID')"
   ]
  },
  {
   "cell_type": "code",
   "execution_count": 271,
   "metadata": {
    "collapsed": true
   },
   "outputs": [],
   "source": [
    "from geopy.distance import VincentyDistance"
   ]
  },
  {
   "cell_type": "code",
   "execution_count": 272,
   "metadata": {
    "collapsed": true
   },
   "outputs": [],
   "source": [
    "misfits['coord'] = list(zip(misfits.latitude_x_x, misfits.longitude_x))\n",
    "misfits['coord_avg'] = list(zip(misfits.latitude_x_y, misfits.longitude_y))"
   ]
  },
  {
   "cell_type": "code",
   "execution_count": 273,
   "metadata": {
    "collapsed": true
   },
   "outputs": [],
   "source": [
    "misfits['dist'] = np.vectorize(lambda x, y:( VincentyDistance(x,y).meters))(misfits['latitude_x_x'], misfits['latitude_x_y'])"
   ]
  },
  {
   "cell_type": "code",
   "execution_count": 238,
   "metadata": {},
   "outputs": [
    {
     "data": {
      "image/png": "[encoded data removed]",
      "text/plain": [
       "<matplotlib.figure.Figure at 0x7fdcb1897cd0>"
      ]
     },
     "metadata": {},
     "output_type": "display_data"
    }
   ],
   "source": [
    "import matplotlib.pyplot as plt\n",
    "submis = misfits[misfits['dist'] < 2500]\n",
    "plt.hist(submis['dist'], bins = 30)\n",
    "plt.show()"
   ]
  },
  {
   "cell_type": "code",
   "execution_count": 283,
   "metadata": {
    "scrolled": true
   },
   "outputs": [
    {
     "data": {
      "text/html": [
       "<div>\n",
       "<table border=\"1\" class=\"dataframe\">\n",
       "  <thead>\n",
       "    <tr style=\"text-align: right;\">\n",
       "      <th></th>\n",
       "      <th>ID</th>\n",
       "      <th>latitude_x_x</th>\n",
       "      <th>longitude_x</th>\n",
       "      <th>count</th>\n",
       "      <th>start_x</th>\n",
       "      <th>end_x</th>\n",
       "      <th>longitude_y</th>\n",
       "      <th>latitude_x_y</th>\n",
       "      <th>coord</th>\n",
       "      <th>coord_avg</th>\n",
       "      <th>dist</th>\n",
       "    </tr>\n",
       "  </thead>\n",
       "  <tbody>\n",
       "    <tr>\n",
       "      <th>2</th>\n",
       "      <td>160</td>\n",
       "      <td>40.44535</td>\n",
       "      <td>-73.97824</td>\n",
       "      <td>8</td>\n",
       "      <td>2016-09-14 15:41:52</td>\n",
       "      <td>2016-09-14 18:18:34</td>\n",
       "      <td>-73.978275</td>\n",
       "      <td>40.596795</td>\n",
       "      <td>(40.44535, -73.97824)</td>\n",
       "      <td>(40.596795, -73.978275)</td>\n",
       "      <td>16817.158918</td>\n",
       "    </tr>\n",
       "    <tr>\n",
       "      <th>3</th>\n",
       "      <td>160</td>\n",
       "      <td>40.74824</td>\n",
       "      <td>-73.97831</td>\n",
       "      <td>55711</td>\n",
       "      <td>2013-07-01 01:15:36</td>\n",
       "      <td>2016-05-03 08:21:26</td>\n",
       "      <td>-73.978275</td>\n",
       "      <td>40.596795</td>\n",
       "      <td>(40.74824, -73.97831)</td>\n",
       "      <td>(40.596795, -73.978275)</td>\n",
       "      <td>16817.601276</td>\n",
       "    </tr>\n",
       "    <tr>\n",
       "      <th>16</th>\n",
       "      <td>279</td>\n",
       "      <td>40.69987</td>\n",
       "      <td>-73.98272</td>\n",
       "      <td>3479</td>\n",
       "      <td>2013-07-01 05:59:31</td>\n",
       "      <td>2014-05-31 23:59:32</td>\n",
       "      <td>-73.992195</td>\n",
       "      <td>40.703870</td>\n",
       "      <td>(40.69987, -73.98272)</td>\n",
       "      <td>(40.70387, -73.992195)</td>\n",
       "      <td>444.192599</td>\n",
       "    </tr>\n",
       "    <tr>\n",
       "      <th>17</th>\n",
       "      <td>279</td>\n",
       "      <td>40.70787</td>\n",
       "      <td>-74.00167</td>\n",
       "      <td>69342</td>\n",
       "      <td>2014-06-01 01:52:29</td>\n",
       "      <td>2016-12-31 22:39:30</td>\n",
       "      <td>-73.992195</td>\n",
       "      <td>40.703870</td>\n",
       "      <td>(40.70787, -74.00167)</td>\n",
       "      <td>(40.70387, -73.992195)</td>\n",
       "      <td>444.192908</td>\n",
       "    </tr>\n",
       "    <tr>\n",
       "      <th>54</th>\n",
       "      <td>3016</td>\n",
       "      <td>40.72037</td>\n",
       "      <td>-73.96165</td>\n",
       "      <td>27844</td>\n",
       "      <td>2016-04-01 00:10:17</td>\n",
       "      <td>2016-12-31 20:24:35</td>\n",
       "      <td>-73.962417</td>\n",
       "      <td>40.737383</td>\n",
       "      <td>(40.72037, -73.96165)</td>\n",
       "      <td>(40.7373833333, -73.9624166667)</td>\n",
       "      <td>1889.308056</td>\n",
       "    </tr>\n",
       "    <tr>\n",
       "      <th>55</th>\n",
       "      <td>3016</td>\n",
       "      <td>40.72073</td>\n",
       "      <td>-73.96126</td>\n",
       "      <td>409</td>\n",
       "      <td>2016-03-25 21:09:02</td>\n",
       "      <td>2016-03-31 22:44:01</td>\n",
       "      <td>-73.962417</td>\n",
       "      <td>40.737383</td>\n",
       "      <td>(40.72073, -73.96126)</td>\n",
       "      <td>(40.7373833333, -73.9624166667)</td>\n",
       "      <td>1849.330592</td>\n",
       "    </tr>\n",
       "    <tr>\n",
       "      <th>56</th>\n",
       "      <td>3016</td>\n",
       "      <td>40.77105</td>\n",
       "      <td>-73.96434</td>\n",
       "      <td>1039</td>\n",
       "      <td>2015-08-01 07:17:17</td>\n",
       "      <td>2015-08-15 13:15:35</td>\n",
       "      <td>-73.962417</td>\n",
       "      <td>40.737383</td>\n",
       "      <td>(40.77105, -73.96434)</td>\n",
       "      <td>(40.7373833333, -73.9624166667)</td>\n",
       "      <td>3738.655057</td>\n",
       "    </tr>\n",
       "    <tr>\n",
       "      <th>57</th>\n",
       "      <td>3036</td>\n",
       "      <td>40.51798</td>\n",
       "      <td>-74.03137</td>\n",
       "      <td>2</td>\n",
       "      <td>2016-12-02 14:03:11</td>\n",
       "      <td>2016-12-02 14:45:09</td>\n",
       "      <td>-74.028410</td>\n",
       "      <td>40.601425</td>\n",
       "      <td>(40.51798, -74.03137)</td>\n",
       "      <td>(40.601425, -74.02841)</td>\n",
       "      <td>9266.184010</td>\n",
       "    </tr>\n",
       "    <tr>\n",
       "      <th>58</th>\n",
       "      <td>3036</td>\n",
       "      <td>40.68487</td>\n",
       "      <td>-74.02545</td>\n",
       "      <td>8</td>\n",
       "      <td>2016-07-12 15:01:45</td>\n",
       "      <td>2016-09-30 14:03:38</td>\n",
       "      <td>-74.028410</td>\n",
       "      <td>40.601425</td>\n",
       "      <td>(40.68487, -74.02545)</td>\n",
       "      <td>(40.601425, -74.02841)</td>\n",
       "      <td>9266.318311</td>\n",
       "    </tr>\n",
       "  </tbody>\n",
       "</table>\n",
       "</div>"
      ],
      "text/plain": [
       "      ID  latitude_x_x  longitude_x  count             start_x  \\\n",
       "2    160      40.44535    -73.97824      8 2016-09-14 15:41:52   \n",
       "3    160      40.74824    -73.97831  55711 2013-07-01 01:15:36   \n",
       "16   279      40.69987    -73.98272   3479 2013-07-01 05:59:31   \n",
       "17   279      40.70787    -74.00167  69342 2014-06-01 01:52:29   \n",
       "54  3016      40.72037    -73.96165  27844 2016-04-01 00:10:17   \n",
       "55  3016      40.72073    -73.96126    409 2016-03-25 21:09:02   \n",
       "56  3016      40.77105    -73.96434   1039 2015-08-01 07:17:17   \n",
       "57  3036      40.51798    -74.03137      2 2016-12-02 14:03:11   \n",
       "58  3036      40.68487    -74.02545      8 2016-07-12 15:01:45   \n",
       "\n",
       "                 end_x  longitude_y  latitude_x_y                  coord  \\\n",
       "2  2016-09-14 18:18:34   -73.978275     40.596795  (40.44535, -73.97824)   \n",
       "3  2016-05-03 08:21:26   -73.978275     40.596795  (40.74824, -73.97831)   \n",
       "16 2014-05-31 23:59:32   -73.992195     40.703870  (40.69987, -73.98272)   \n",
       "17 2016-12-31 22:39:30   -73.992195     40.703870  (40.70787, -74.00167)   \n",
       "54 2016-12-31 20:24:35   -73.962417     40.737383  (40.72037, -73.96165)   \n",
       "55 2016-03-31 22:44:01   -73.962417     40.737383  (40.72073, -73.96126)   \n",
       "56 2015-08-15 13:15:35   -73.962417     40.737383  (40.77105, -73.96434)   \n",
       "57 2016-12-02 14:45:09   -74.028410     40.601425  (40.51798, -74.03137)   \n",
       "58 2016-09-30 14:03:38   -74.028410     40.601425  (40.68487, -74.02545)   \n",
       "\n",
       "                          coord_avg          dist  \n",
       "2           (40.596795, -73.978275)  16817.158918  \n",
       "3           (40.596795, -73.978275)  16817.601276  \n",
       "16           (40.70387, -73.992195)    444.192599  \n",
       "17           (40.70387, -73.992195)    444.192908  \n",
       "54  (40.7373833333, -73.9624166667)   1889.308056  \n",
       "55  (40.7373833333, -73.9624166667)   1849.330592  \n",
       "56  (40.7373833333, -73.9624166667)   3738.655057  \n",
       "57           (40.601425, -74.02841)   9266.184010  \n",
       "58           (40.601425, -74.02841)   9266.318311  "
      ]
     },
     "execution_count": 283,
     "metadata": {},
     "output_type": "execute_result"
    }
   ],
   "source": [
    "#More than 420 feet\n",
    "misfits = misfits.sort_values(['ID', 'latitude_x_x'])\n",
    "misfits[misfits['dist'] > 128]"
   ]
  },
  {
   "cell_type": "markdown",
   "metadata": {},
   "source": [
    "##### For the ending stations"
   ]
  },
  {
   "cell_type": "code",
   "execution_count": 251,
   "metadata": {
    "collapsed": true
   },
   "outputs": [],
   "source": [
    "#Verify consistency of coordinates\n",
    "t0 = time.time()\n",
    "funs = [count, min, max]\n",
    "cols = ['stoptime']\n",
    "aggs = [f(col(c)) for f in funs for c in cols]\n",
    "lat_lon_end = trips.groupby(['end_station_id', \\\n",
    "                               'end_station_latitude', \\\n",
    "                               'end_station_longitude']).agg(*aggs)\n",
    "\n",
    "ending = lat_lon_end.toPandas()\n",
    "t1 = time.time()\n",
    "\n",
    "ending.columns = ['ID', 'latitude', 'longitude', 'count', 'start', 'end']"
   ]
  },
  {
   "cell_type": "code",
   "execution_count": 265,
   "metadata": {
    "collapsed": true
   },
   "outputs": [],
   "source": [
    "coords_in_data = ending.groupby('ID').agg({'start': np.min, 'end':np.max, 'latitude': 'count'}).reset_index()\n",
    "coords_in_data = coords_in_data[coords_in_data.latitude != 1]"
   ]
  },
  {
   "cell_type": "code",
   "execution_count": 268,
   "metadata": {
    "collapsed": true
   },
   "outputs": [],
   "source": [
    "nonfits = ending.merge(coords_in_data, on = 'ID')[['ID', 'latitude_x', 'longitude', 'count', 'start_x', 'end_x']]"
   ]
  },
  {
   "cell_type": "code",
   "execution_count": 274,
   "metadata": {
    "collapsed": true
   },
   "outputs": [],
   "source": [
    "nonfits = nonfits.merge(nonfits.groupby('ID').agg({'latitude_x': np.mean,\n",
    "                                        'longitude' : np.mean}).reset_index(), on = 'ID')"
   ]
  },
  {
   "cell_type": "code",
   "execution_count": 275,
   "metadata": {
    "collapsed": true
   },
   "outputs": [],
   "source": [
    "nonfits['coord'] = list(zip(nonfits.latitude_x_x, nonfits.longitude_x))\n",
    "nonfits['coord_avg'] = list(zip(nonfits.latitude_x_y, nonfits.longitude_y))"
   ]
  },
  {
   "cell_type": "code",
   "execution_count": 276,
   "metadata": {
    "collapsed": true
   },
   "outputs": [],
   "source": [
    "nonfits['dist'] = np.vectorize(lambda x, y:( VincentyDistance(x,y).meters))(nonfits['latitude_x_x'], nonfits['latitude_x_y'])"
   ]
  },
  {
   "cell_type": "markdown",
   "metadata": {},
   "source": [
    "#### Taking out the Points"
   ]
  },
  {
   "cell_type": "code",
   "execution_count": 378,
   "metadata": {
    "collapsed": true
   },
   "outputs": [],
   "source": [
    "merged = x.merge(ending, on = ['ID', 'latitude', 'longitude'], how = 'outer')\n",
    "merged = merged[merged['latitude'] > 0].sort_values(['ID', 'latitude', 'longitude'])"
   ]
  },
  {
   "cell_type": "code",
   "execution_count": 380,
   "metadata": {},
   "outputs": [
    {
     "data": {
      "text/plain": [
       "<matplotlib.collections.PathCollection at 0x7fdcb9100490>"
      ]
     },
     "execution_count": 380,
     "metadata": {},
     "output_type": "execute_result"
    },
    {
     "data": {
      "image/png": "[encoded data removed]",
      "text/plain": [
       "<matplotlib.figure.Figure at 0x7fdcb95c6690>"
      ]
     },
     "metadata": {},
     "output_type": "display_data"
    }
   ],
   "source": []
  },
  {
   "cell_type": "code",
   "execution_count": 384,
   "metadata": {},
   "outputs": [
    {
     "data": {
      "text/html": [
       "<div>\n",
       "<table border=\"1\" class=\"dataframe\">\n",
       "  <thead>\n",
       "    <tr style=\"text-align: right;\">\n",
       "      <th></th>\n",
       "      <th>ID</th>\n",
       "      <th>latitude</th>\n",
       "      <th>longitude</th>\n",
       "      <th>count_x</th>\n",
       "      <th>start_x</th>\n",
       "      <th>end_x</th>\n",
       "      <th>count_y</th>\n",
       "      <th>start_y</th>\n",
       "      <th>end_y</th>\n",
       "    </tr>\n",
       "  </thead>\n",
       "  <tbody>\n",
       "    <tr>\n",
       "      <th>20</th>\n",
       "      <td>160</td>\n",
       "      <td>40.44535</td>\n",
       "      <td>-73.97824</td>\n",
       "      <td>8.0</td>\n",
       "      <td>2016-09-14 15:41:52</td>\n",
       "      <td>2016-09-14 18:18:34</td>\n",
       "      <td>8</td>\n",
       "      <td>2016-09-14 12:25:11</td>\n",
       "      <td>2016-09-14 17:47:55</td>\n",
       "    </tr>\n",
       "    <tr>\n",
       "      <th>21</th>\n",
       "      <td>160</td>\n",
       "      <td>40.74824</td>\n",
       "      <td>-73.97831</td>\n",
       "      <td>55711.0</td>\n",
       "      <td>2013-07-01 01:15:36</td>\n",
       "      <td>2016-05-03 08:21:26</td>\n",
       "      <td>55905</td>\n",
       "      <td>2013-07-01 07:32:21</td>\n",
       "      <td>2016-05-03 08:10:08</td>\n",
       "    </tr>\n",
       "    <tr>\n",
       "      <th>82</th>\n",
       "      <td>279</td>\n",
       "      <td>40.69987</td>\n",
       "      <td>-73.98272</td>\n",
       "      <td>3479.0</td>\n",
       "      <td>2013-07-01 05:59:31</td>\n",
       "      <td>2014-05-31 23:59:32</td>\n",
       "      <td>3704</td>\n",
       "      <td>2013-07-01 07:52:18</td>\n",
       "      <td>2014-05-31 23:52:53</td>\n",
       "    </tr>\n",
       "    <tr>\n",
       "      <th>83</th>\n",
       "      <td>279</td>\n",
       "      <td>40.70787</td>\n",
       "      <td>-74.00167</td>\n",
       "      <td>69342.0</td>\n",
       "      <td>2014-06-01 01:52:29</td>\n",
       "      <td>2016-12-31 22:39:30</td>\n",
       "      <td>71191</td>\n",
       "      <td>2014-06-01 00:41:00</td>\n",
       "      <td>2016-12-31 21:49:37</td>\n",
       "    </tr>\n",
       "    <tr>\n",
       "      <th>362</th>\n",
       "      <td>3016</td>\n",
       "      <td>40.72037</td>\n",
       "      <td>-73.96165</td>\n",
       "      <td>27844.0</td>\n",
       "      <td>2016-04-01 00:10:17</td>\n",
       "      <td>2016-12-31 20:24:35</td>\n",
       "      <td>29077</td>\n",
       "      <td>2016-04-01 01:23:26</td>\n",
       "      <td>2017-01-01 12:20:09</td>\n",
       "    </tr>\n",
       "    <tr>\n",
       "      <th>363</th>\n",
       "      <td>3016</td>\n",
       "      <td>40.72073</td>\n",
       "      <td>-73.96126</td>\n",
       "      <td>409.0</td>\n",
       "      <td>2016-03-25 21:09:02</td>\n",
       "      <td>2016-03-31 22:44:01</td>\n",
       "      <td>407</td>\n",
       "      <td>2016-03-25 19:20:52</td>\n",
       "      <td>2016-03-31 22:36:27</td>\n",
       "    </tr>\n",
       "    <tr>\n",
       "      <th>364</th>\n",
       "      <td>3016</td>\n",
       "      <td>40.77105</td>\n",
       "      <td>-73.96434</td>\n",
       "      <td>1039.0</td>\n",
       "      <td>2015-08-01 07:17:17</td>\n",
       "      <td>2015-08-15 13:15:35</td>\n",
       "      <td>992</td>\n",
       "      <td>2015-08-01 07:15:28</td>\n",
       "      <td>2015-08-15 13:19:29</td>\n",
       "    </tr>\n",
       "    <tr>\n",
       "      <th>366</th>\n",
       "      <td>3036</td>\n",
       "      <td>40.51798</td>\n",
       "      <td>-74.03137</td>\n",
       "      <td>2.0</td>\n",
       "      <td>2016-12-02 14:03:11</td>\n",
       "      <td>2016-12-02 14:45:09</td>\n",
       "      <td>2</td>\n",
       "      <td>2016-12-02 14:12:48</td>\n",
       "      <td>2016-12-02 14:47:40</td>\n",
       "    </tr>\n",
       "    <tr>\n",
       "      <th>367</th>\n",
       "      <td>3036</td>\n",
       "      <td>40.68487</td>\n",
       "      <td>-74.02545</td>\n",
       "      <td>8.0</td>\n",
       "      <td>2016-07-12 15:01:45</td>\n",
       "      <td>2016-09-30 14:03:38</td>\n",
       "      <td>8</td>\n",
       "      <td>2016-07-12 15:03:31</td>\n",
       "      <td>2016-09-30 14:07:57</td>\n",
       "    </tr>\n",
       "  </tbody>\n",
       "</table>\n",
       "</div>"
      ],
      "text/plain": [
       "       ID  latitude  longitude  count_x             start_x  \\\n",
       "20    160  40.44535  -73.97824      8.0 2016-09-14 15:41:52   \n",
       "21    160  40.74824  -73.97831  55711.0 2013-07-01 01:15:36   \n",
       "82    279  40.69987  -73.98272   3479.0 2013-07-01 05:59:31   \n",
       "83    279  40.70787  -74.00167  69342.0 2014-06-01 01:52:29   \n",
       "362  3016  40.72037  -73.96165  27844.0 2016-04-01 00:10:17   \n",
       "363  3016  40.72073  -73.96126    409.0 2016-03-25 21:09:02   \n",
       "364  3016  40.77105  -73.96434   1039.0 2015-08-01 07:17:17   \n",
       "366  3036  40.51798  -74.03137      2.0 2016-12-02 14:03:11   \n",
       "367  3036  40.68487  -74.02545      8.0 2016-07-12 15:01:45   \n",
       "\n",
       "                  end_x  count_y             start_y               end_y  \n",
       "20  2016-09-14 18:18:34        8 2016-09-14 12:25:11 2016-09-14 17:47:55  \n",
       "21  2016-05-03 08:21:26    55905 2013-07-01 07:32:21 2016-05-03 08:10:08  \n",
       "82  2014-05-31 23:59:32     3704 2013-07-01 07:52:18 2014-05-31 23:52:53  \n",
       "83  2016-12-31 22:39:30    71191 2014-06-01 00:41:00 2016-12-31 21:49:37  \n",
       "362 2016-12-31 20:24:35    29077 2016-04-01 01:23:26 2017-01-01 12:20:09  \n",
       "363 2016-03-31 22:44:01      407 2016-03-25 19:20:52 2016-03-31 22:36:27  \n",
       "364 2015-08-15 13:15:35      992 2015-08-01 07:15:28 2015-08-15 13:19:29  \n",
       "366 2016-12-02 14:45:09        2 2016-12-02 14:12:48 2016-12-02 14:47:40  \n",
       "367 2016-09-30 14:03:38        8 2016-07-12 15:03:31 2016-09-30 14:07:57  "
      ]
     },
     "execution_count": 384,
     "metadata": {},
     "output_type": "execute_result"
    }
   ],
   "source": [
    "merged[merged['ID'].isin([160, 279, 3016, 3036])]"
   ]
  },
  {
   "cell_type": "code",
   "execution_count": 386,
   "metadata": {},
   "outputs": [],
   "source": [
    "merged = merged.drop([364, 366, 20, 82])"
   ]
  },
  {
   "cell_type": "code",
   "execution_count": 374,
   "metadata": {},
   "outputs": [
    {
     "data": {
      "text/html": [
       "<div>\n",
       "<table border=\"1\" class=\"dataframe\">\n",
       "  <thead>\n",
       "    <tr style=\"text-align: right;\">\n",
       "      <th></th>\n",
       "      <th>ID</th>\n",
       "      <th>latitude</th>\n",
       "      <th>longitude</th>\n",
       "      <th>count_x</th>\n",
       "      <th>start_x</th>\n",
       "      <th>end_x</th>\n",
       "      <th>count_y</th>\n",
       "      <th>start_y</th>\n",
       "      <th>end_y</th>\n",
       "    </tr>\n",
       "  </thead>\n",
       "  <tbody>\n",
       "    <tr>\n",
       "      <th>200</th>\n",
       "      <td>402</td>\n",
       "      <td>40.74034</td>\n",
       "      <td>-73.98955</td>\n",
       "      <td>257860.0</td>\n",
       "      <td>2013-07-01 00:30:03</td>\n",
       "      <td>2016-12-31 22:32:31</td>\n",
       "      <td>266152</td>\n",
       "      <td>2013-07-01 06:26:25</td>\n",
       "      <td>2016-12-31 22:39:14</td>\n",
       "    </tr>\n",
       "    <tr>\n",
       "      <th>719</th>\n",
       "      <td>3439</td>\n",
       "      <td>40.74034</td>\n",
       "      <td>-73.98955</td>\n",
       "      <td>NaN</td>\n",
       "      <td>NaT</td>\n",
       "      <td>NaT</td>\n",
       "      <td>1</td>\n",
       "      <td>2016-11-21 12:17:14</td>\n",
       "      <td>2016-11-21 12:17:14</td>\n",
       "    </tr>\n",
       "  </tbody>\n",
       "</table>\n",
       "</div>"
      ],
      "text/plain": [
       "       ID  latitude  longitude   count_x             start_x  \\\n",
       "200   402  40.74034  -73.98955  257860.0 2013-07-01 00:30:03   \n",
       "719  3439  40.74034  -73.98955       NaN                 NaT   \n",
       "\n",
       "                  end_x  count_y             start_y               end_y  \n",
       "200 2016-12-31 22:32:31   266152 2013-07-01 06:26:25 2016-12-31 22:39:14  \n",
       "719                 NaT        1 2016-11-21 12:17:14 2016-11-21 12:17:14  "
      ]
     },
     "execution_count": 374,
     "metadata": {},
     "output_type": "execute_result"
    }
   ],
   "source": [
    "merged[merged['longitude'] == -73.989550]"
   ]
  },
  {
   "cell_type": "code",
   "execution_count": 389,
   "metadata": {},
   "outputs": [],
   "source": [
    "merged = merged[merged[\"ID\"] != 3439]"
   ]
  },
  {
   "cell_type": "code",
   "execution_count": 392,
   "metadata": {},
   "outputs": [],
   "source": [
    "lat_lon_table = merged.groupby(\"ID\").agg({'latitude': np.mean, 'longitude':np.mean}).reset_index()"
   ]
  },
  {
   "cell_type": "code",
   "execution_count": 393,
   "metadata": {},
   "outputs": [
    {
     "data": {
      "text/html": [
       "<div>\n",
       "<table border=\"1\" class=\"dataframe\">\n",
       "  <thead>\n",
       "    <tr style=\"text-align: right;\">\n",
       "      <th></th>\n",
       "      <th>ID</th>\n",
       "      <th>latitude</th>\n",
       "      <th>longitude</th>\n",
       "    </tr>\n",
       "  </thead>\n",
       "  <tbody>\n",
       "    <tr>\n",
       "      <th>0</th>\n",
       "      <td>72</td>\n",
       "      <td>40.767270</td>\n",
       "      <td>-73.993930</td>\n",
       "    </tr>\n",
       "    <tr>\n",
       "      <th>1</th>\n",
       "      <td>79</td>\n",
       "      <td>40.719120</td>\n",
       "      <td>-74.006670</td>\n",
       "    </tr>\n",
       "    <tr>\n",
       "      <th>2</th>\n",
       "      <td>82</td>\n",
       "      <td>40.711170</td>\n",
       "      <td>-74.000170</td>\n",
       "    </tr>\n",
       "    <tr>\n",
       "      <th>3</th>\n",
       "      <td>83</td>\n",
       "      <td>40.683830</td>\n",
       "      <td>-73.976320</td>\n",
       "    </tr>\n",
       "    <tr>\n",
       "      <th>4</th>\n",
       "      <td>116</td>\n",
       "      <td>40.741780</td>\n",
       "      <td>-74.001500</td>\n",
       "    </tr>\n",
       "    <tr>\n",
       "      <th>5</th>\n",
       "      <td>119</td>\n",
       "      <td>40.696090</td>\n",
       "      <td>-73.978030</td>\n",
       "    </tr>\n",
       "    <tr>\n",
       "      <th>6</th>\n",
       "      <td>120</td>\n",
       "      <td>40.686770</td>\n",
       "      <td>-73.959280</td>\n",
       "    </tr>\n",
       "    <tr>\n",
       "      <th>7</th>\n",
       "      <td>127</td>\n",
       "      <td>40.731720</td>\n",
       "      <td>-74.006740</td>\n",
       "    </tr>\n",
       "    <tr>\n",
       "      <th>8</th>\n",
       "      <td>128</td>\n",
       "      <td>40.727100</td>\n",
       "      <td>-74.002970</td>\n",
       "    </tr>\n",
       "    <tr>\n",
       "      <th>9</th>\n",
       "      <td>137</td>\n",
       "      <td>40.761630</td>\n",
       "      <td>-73.972920</td>\n",
       "    </tr>\n",
       "    <tr>\n",
       "      <th>10</th>\n",
       "      <td>143</td>\n",
       "      <td>40.692400</td>\n",
       "      <td>-73.993380</td>\n",
       "    </tr>\n",
       "    <tr>\n",
       "      <th>11</th>\n",
       "      <td>144</td>\n",
       "      <td>40.698400</td>\n",
       "      <td>-73.980690</td>\n",
       "    </tr>\n",
       "    <tr>\n",
       "      <th>12</th>\n",
       "      <td>146</td>\n",
       "      <td>40.716250</td>\n",
       "      <td>-74.009110</td>\n",
       "    </tr>\n",
       "    <tr>\n",
       "      <th>13</th>\n",
       "      <td>147</td>\n",
       "      <td>40.715420</td>\n",
       "      <td>-74.011220</td>\n",
       "    </tr>\n",
       "    <tr>\n",
       "      <th>14</th>\n",
       "      <td>150</td>\n",
       "      <td>40.720870</td>\n",
       "      <td>-73.980860</td>\n",
       "    </tr>\n",
       "    <tr>\n",
       "      <th>15</th>\n",
       "      <td>151</td>\n",
       "      <td>40.721960</td>\n",
       "      <td>-73.997225</td>\n",
       "    </tr>\n",
       "    <tr>\n",
       "      <th>16</th>\n",
       "      <td>152</td>\n",
       "      <td>40.714740</td>\n",
       "      <td>-74.009110</td>\n",
       "    </tr>\n",
       "    <tr>\n",
       "      <th>17</th>\n",
       "      <td>153</td>\n",
       "      <td>40.752060</td>\n",
       "      <td>-73.981630</td>\n",
       "    </tr>\n",
       "    <tr>\n",
       "      <th>18</th>\n",
       "      <td>157</td>\n",
       "      <td>40.690890</td>\n",
       "      <td>-73.996120</td>\n",
       "    </tr>\n",
       "    <tr>\n",
       "      <th>19</th>\n",
       "      <td>160</td>\n",
       "      <td>40.748240</td>\n",
       "      <td>-73.978310</td>\n",
       "    </tr>\n",
       "    <tr>\n",
       "      <th>20</th>\n",
       "      <td>161</td>\n",
       "      <td>40.729170</td>\n",
       "      <td>-73.998100</td>\n",
       "    </tr>\n",
       "    <tr>\n",
       "      <th>21</th>\n",
       "      <td>164</td>\n",
       "      <td>40.753230</td>\n",
       "      <td>-73.970330</td>\n",
       "    </tr>\n",
       "    <tr>\n",
       "      <th>22</th>\n",
       "      <td>167</td>\n",
       "      <td>40.748900</td>\n",
       "      <td>-73.976050</td>\n",
       "    </tr>\n",
       "    <tr>\n",
       "      <th>23</th>\n",
       "      <td>168</td>\n",
       "      <td>40.739710</td>\n",
       "      <td>-73.994560</td>\n",
       "    </tr>\n",
       "    <tr>\n",
       "      <th>24</th>\n",
       "      <td>173</td>\n",
       "      <td>40.760665</td>\n",
       "      <td>-73.984480</td>\n",
       "    </tr>\n",
       "    <tr>\n",
       "      <th>25</th>\n",
       "      <td>174</td>\n",
       "      <td>40.738180</td>\n",
       "      <td>-73.977390</td>\n",
       "    </tr>\n",
       "    <tr>\n",
       "      <th>26</th>\n",
       "      <td>195</td>\n",
       "      <td>40.709060</td>\n",
       "      <td>-74.010430</td>\n",
       "    </tr>\n",
       "    <tr>\n",
       "      <th>27</th>\n",
       "      <td>212</td>\n",
       "      <td>40.743350</td>\n",
       "      <td>-74.006820</td>\n",
       "    </tr>\n",
       "    <tr>\n",
       "      <th>28</th>\n",
       "      <td>216</td>\n",
       "      <td>40.700380</td>\n",
       "      <td>-73.995480</td>\n",
       "    </tr>\n",
       "    <tr>\n",
       "      <th>29</th>\n",
       "      <td>217</td>\n",
       "      <td>40.702770</td>\n",
       "      <td>-73.993840</td>\n",
       "    </tr>\n",
       "    <tr>\n",
       "      <th>...</th>\n",
       "      <td>...</td>\n",
       "      <td>...</td>\n",
       "      <td>...</td>\n",
       "    </tr>\n",
       "    <tr>\n",
       "      <th>656</th>\n",
       "      <td>3407</td>\n",
       "      <td>40.679100</td>\n",
       "      <td>-73.987650</td>\n",
       "    </tr>\n",
       "    <tr>\n",
       "      <th>657</th>\n",
       "      <td>3408</td>\n",
       "      <td>40.688150</td>\n",
       "      <td>-73.995210</td>\n",
       "    </tr>\n",
       "    <tr>\n",
       "      <th>658</th>\n",
       "      <td>3409</td>\n",
       "      <td>40.686740</td>\n",
       "      <td>-73.990630</td>\n",
       "    </tr>\n",
       "    <tr>\n",
       "      <th>659</th>\n",
       "      <td>3410</td>\n",
       "      <td>40.686440</td>\n",
       "      <td>-73.987590</td>\n",
       "    </tr>\n",
       "    <tr>\n",
       "      <th>660</th>\n",
       "      <td>3411</td>\n",
       "      <td>40.684970</td>\n",
       "      <td>-73.986210</td>\n",
       "    </tr>\n",
       "    <tr>\n",
       "      <th>661</th>\n",
       "      <td>3412</td>\n",
       "      <td>40.685380</td>\n",
       "      <td>-73.983020</td>\n",
       "    </tr>\n",
       "    <tr>\n",
       "      <th>662</th>\n",
       "      <td>3413</td>\n",
       "      <td>40.682750</td>\n",
       "      <td>-73.982590</td>\n",
       "    </tr>\n",
       "    <tr>\n",
       "      <th>663</th>\n",
       "      <td>3414</td>\n",
       "      <td>40.680940</td>\n",
       "      <td>-73.975670</td>\n",
       "    </tr>\n",
       "    <tr>\n",
       "      <th>664</th>\n",
       "      <td>3415</td>\n",
       "      <td>40.679330</td>\n",
       "      <td>-73.975200</td>\n",
       "    </tr>\n",
       "    <tr>\n",
       "      <th>665</th>\n",
       "      <td>3416</td>\n",
       "      <td>40.677610</td>\n",
       "      <td>-73.973240</td>\n",
       "    </tr>\n",
       "    <tr>\n",
       "      <th>666</th>\n",
       "      <td>3417</td>\n",
       "      <td>40.679580</td>\n",
       "      <td>-73.978550</td>\n",
       "    </tr>\n",
       "    <tr>\n",
       "      <th>667</th>\n",
       "      <td>3418</td>\n",
       "      <td>40.675020</td>\n",
       "      <td>-73.971110</td>\n",
       "    </tr>\n",
       "    <tr>\n",
       "      <th>668</th>\n",
       "      <td>3419</td>\n",
       "      <td>40.679280</td>\n",
       "      <td>-73.981540</td>\n",
       "    </tr>\n",
       "    <tr>\n",
       "      <th>669</th>\n",
       "      <td>3420</td>\n",
       "      <td>40.680210</td>\n",
       "      <td>-73.984330</td>\n",
       "    </tr>\n",
       "    <tr>\n",
       "      <th>670</th>\n",
       "      <td>3421</td>\n",
       "      <td>40.684350</td>\n",
       "      <td>-73.989020</td>\n",
       "    </tr>\n",
       "    <tr>\n",
       "      <th>671</th>\n",
       "      <td>3422</td>\n",
       "      <td>40.685930</td>\n",
       "      <td>-74.002420</td>\n",
       "    </tr>\n",
       "    <tr>\n",
       "      <th>672</th>\n",
       "      <td>3423</td>\n",
       "      <td>40.661060</td>\n",
       "      <td>-73.979450</td>\n",
       "    </tr>\n",
       "    <tr>\n",
       "      <th>673</th>\n",
       "      <td>3424</td>\n",
       "      <td>40.791980</td>\n",
       "      <td>-73.945990</td>\n",
       "    </tr>\n",
       "    <tr>\n",
       "      <th>674</th>\n",
       "      <td>3425</td>\n",
       "      <td>40.789210</td>\n",
       "      <td>-73.943710</td>\n",
       "    </tr>\n",
       "    <tr>\n",
       "      <th>675</th>\n",
       "      <td>3427</td>\n",
       "      <td>40.724310</td>\n",
       "      <td>-73.996010</td>\n",
       "    </tr>\n",
       "    <tr>\n",
       "      <th>676</th>\n",
       "      <td>3428</td>\n",
       "      <td>40.740980</td>\n",
       "      <td>-74.001700</td>\n",
       "    </tr>\n",
       "    <tr>\n",
       "      <th>677</th>\n",
       "      <td>3429</td>\n",
       "      <td>40.685070</td>\n",
       "      <td>-73.977910</td>\n",
       "    </tr>\n",
       "    <tr>\n",
       "      <th>678</th>\n",
       "      <td>3430</td>\n",
       "      <td>40.719080</td>\n",
       "      <td>-73.942240</td>\n",
       "    </tr>\n",
       "    <tr>\n",
       "      <th>679</th>\n",
       "      <td>3431</td>\n",
       "      <td>40.746520</td>\n",
       "      <td>-73.977890</td>\n",
       "    </tr>\n",
       "    <tr>\n",
       "      <th>680</th>\n",
       "      <td>3432</td>\n",
       "      <td>40.662990</td>\n",
       "      <td>-73.976920</td>\n",
       "    </tr>\n",
       "    <tr>\n",
       "      <th>681</th>\n",
       "      <td>3434</td>\n",
       "      <td>40.790250</td>\n",
       "      <td>-73.977180</td>\n",
       "    </tr>\n",
       "    <tr>\n",
       "      <th>682</th>\n",
       "      <td>3435</td>\n",
       "      <td>40.718820</td>\n",
       "      <td>-73.995960</td>\n",
       "    </tr>\n",
       "    <tr>\n",
       "      <th>683</th>\n",
       "      <td>3436</td>\n",
       "      <td>40.721320</td>\n",
       "      <td>-74.010070</td>\n",
       "    </tr>\n",
       "    <tr>\n",
       "      <th>684</th>\n",
       "      <td>3438</td>\n",
       "      <td>40.772250</td>\n",
       "      <td>-73.958420</td>\n",
       "    </tr>\n",
       "    <tr>\n",
       "      <th>685</th>\n",
       "      <td>3440</td>\n",
       "      <td>40.692420</td>\n",
       "      <td>-73.989490</td>\n",
       "    </tr>\n",
       "  </tbody>\n",
       "</table>\n",
       "<p>686 rows × 3 columns</p>\n",
       "</div>"
      ],
      "text/plain": [
       "       ID   latitude  longitude\n",
       "0      72  40.767270 -73.993930\n",
       "1      79  40.719120 -74.006670\n",
       "2      82  40.711170 -74.000170\n",
       "3      83  40.683830 -73.976320\n",
       "4     116  40.741780 -74.001500\n",
       "5     119  40.696090 -73.978030\n",
       "6     120  40.686770 -73.959280\n",
       "7     127  40.731720 -74.006740\n",
       "8     128  40.727100 -74.002970\n",
       "9     137  40.761630 -73.972920\n",
       "10    143  40.692400 -73.993380\n",
       "11    144  40.698400 -73.980690\n",
       "12    146  40.716250 -74.009110\n",
       "13    147  40.715420 -74.011220\n",
       "14    150  40.720870 -73.980860\n",
       "15    151  40.721960 -73.997225\n",
       "16    152  40.714740 -74.009110\n",
       "17    153  40.752060 -73.981630\n",
       "18    157  40.690890 -73.996120\n",
       "19    160  40.748240 -73.978310\n",
       "20    161  40.729170 -73.998100\n",
       "21    164  40.753230 -73.970330\n",
       "22    167  40.748900 -73.976050\n",
       "23    168  40.739710 -73.994560\n",
       "24    173  40.760665 -73.984480\n",
       "25    174  40.738180 -73.977390\n",
       "26    195  40.709060 -74.010430\n",
       "27    212  40.743350 -74.006820\n",
       "28    216  40.700380 -73.995480\n",
       "29    217  40.702770 -73.993840\n",
       "..    ...        ...        ...\n",
       "656  3407  40.679100 -73.987650\n",
       "657  3408  40.688150 -73.995210\n",
       "658  3409  40.686740 -73.990630\n",
       "659  3410  40.686440 -73.987590\n",
       "660  3411  40.684970 -73.986210\n",
       "661  3412  40.685380 -73.983020\n",
       "662  3413  40.682750 -73.982590\n",
       "663  3414  40.680940 -73.975670\n",
       "664  3415  40.679330 -73.975200\n",
       "665  3416  40.677610 -73.973240\n",
       "666  3417  40.679580 -73.978550\n",
       "667  3418  40.675020 -73.971110\n",
       "668  3419  40.679280 -73.981540\n",
       "669  3420  40.680210 -73.984330\n",
       "670  3421  40.684350 -73.989020\n",
       "671  3422  40.685930 -74.002420\n",
       "672  3423  40.661060 -73.979450\n",
       "673  3424  40.791980 -73.945990\n",
       "674  3425  40.789210 -73.943710\n",
       "675  3427  40.724310 -73.996010\n",
       "676  3428  40.740980 -74.001700\n",
       "677  3429  40.685070 -73.977910\n",
       "678  3430  40.719080 -73.942240\n",
       "679  3431  40.746520 -73.977890\n",
       "680  3432  40.662990 -73.976920\n",
       "681  3434  40.790250 -73.977180\n",
       "682  3435  40.718820 -73.995960\n",
       "683  3436  40.721320 -74.010070\n",
       "684  3438  40.772250 -73.958420\n",
       "685  3440  40.692420 -73.989490\n",
       "\n",
       "[686 rows x 3 columns]"
      ]
     },
     "execution_count": 393,
     "metadata": {},
     "output_type": "execute_result"
    }
   ],
   "source": [
    "lat_lon_table"
   ]
  },
  {
   "cell_type": "code",
   "execution_count": 400,
   "metadata": {},
   "outputs": [],
   "source": [
    "from sklearn.cluster import KMeans\n",
    "geo_fit = KMeans(n_clusters = 25).fit(lat_lon_table[['latitude', 'longitude']])"
   ]
  },
  {
   "cell_type": "code",
   "execution_count": 402,
   "metadata": {},
   "outputs": [],
   "source": [
    "lat_lon_table['cluster'] = geo_fit.labels_"
   ]
  },
  {
   "cell_type": "code",
   "execution_count": null,
   "metadata": {
    "collapsed": true
   },
   "outputs": [],
   "source": [
    "##To do: verify the clusters"
   ]
  },
  {
   "cell_type": "markdown",
   "metadata": {},
   "source": [
    "### Create ML datasets"
   ]
  },
  {
   "cell_type": "code",
   "execution_count": 403,
   "metadata": {},
   "outputs": [
    {
     "ename": "AttributeError",
     "evalue": "'SparkContext' object has no attribute 'createDataFrame'",
     "output_type": "error",
     "traceback": [
      "\u001b[0;31m---------------------------------------------------------------------------\u001b[0m",
      "\u001b[0;31mAttributeError\u001b[0m                            Traceback (most recent call last)",
      "\u001b[0;32m<ipython-input-403-3bd5a91e40e6>\u001b[0m in \u001b[0;36m<module>\u001b[0;34m()\u001b[0m\n\u001b[0;32m----> 1\u001b[0;31m \u001b[0mcluster_table\u001b[0m \u001b[0;34m=\u001b[0m \u001b[0msc\u001b[0m\u001b[0;34m.\u001b[0m\u001b[0mcreateDataFrame\u001b[0m\u001b[0;34m(\u001b[0m\u001b[0mlat_lon_table\u001b[0m\u001b[0;34m)\u001b[0m\u001b[0;34m\u001b[0m\u001b[0m\n\u001b[0m",
      "\u001b[0;31mAttributeError\u001b[0m: 'SparkContext' object has no attribute 'createDataFrame'"
     ]
    }
   ],
   "source": [
    "cluster_table = sc.createDataFrame(lat_lon_table)"
   ]
  },
  {
   "cell_type": "code",
   "execution_count": null,
   "metadata": {
    "collapsed": true
   },
   "outputs": [],
   "source": []
  }
 ],
 "metadata": {
  "kernelspec": {
   "display_name": "Python 2",
   "language": "python",
   "name": "python2"
  },
  "language_info": {
   "codemirror_mode": {
    "name": "ipython",
    "version": 2
   },
   "file_extension": ".py",
   "mimetype": "text/x-python",
   "name": "python",
   "nbconvert_exporter": "python",
   "pygments_lexer": "ipython2",
   "version": "2.7.12"
  }
 },
 "nbformat": 4,
 "nbformat_minor": 2
}
